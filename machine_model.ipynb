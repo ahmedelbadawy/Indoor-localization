{
 "cells": [
  {
   "cell_type": "code",
   "execution_count": 16,
   "metadata": {},
   "outputs": [],
   "source": [
    "import pandas as pd"
   ]
  },
  {
   "cell_type": "code",
   "execution_count": 17,
   "metadata": {},
   "outputs": [],
   "source": [
    "wifi_data = pd.read_csv(\"wifi_data.csv\")"
   ]
  },
  {
   "cell_type": "code",
   "execution_count": 18,
   "metadata": {},
   "outputs": [],
   "source": [
    "# wifi_data.fillna(-100,inplace=True)\n",
    "# print(wifi_data.isnull().values.any())"
   ]
  },
  {
   "cell_type": "code",
   "execution_count": 19,
   "metadata": {},
   "outputs": [
    {
     "name": "stdout",
     "output_type": "stream",
     "text": [
      "Index(['STUDBME1', 'STUDBME2', 'STUDBME3', 'CMP-lab1', 'CMP_LAB1',\n",
      "       'Sbme-Staff', 'CUFE', 'bdawy', 'CIVil-2022', 'Location'],\n",
      "      dtype='object')\n"
     ]
    }
   ],
   "source": [
    "print(wifi_data.columns)\n",
    "# columns = ['STUDBME1','STUDBME2','STUDBME3','CMP-lab1','CMP_LAB1','CMP_LAB2','CMP_LAB3','CMP_LAB4','Sbme-Staff','CUFE','bdawy','CIVil-2022']\n",
    "# columns = ['STUDBME1' ,'STUDBME2', 'STUDBME3' ,'CMP-lab1', 'CMP_LAB1' ,'Sbme-Staff','CUFE' ,'bdawy', 'CIVil-2022','Location']\n",
    "# # reading = [-63,-100,-100,-100,-59,-100,-59,-75,-100]"
   ]
  },
  {
   "cell_type": "code",
   "execution_count": 20,
   "metadata": {},
   "outputs": [
    {
     "name": "stdout",
     "output_type": "stream",
     "text": [
      "['class0' 'class1' 'class2' 'class3' 'drtamer' 'slm' 'lab1' 'Modarg']\n"
     ]
    }
   ],
   "source": [
    "wifi_data = wifi_data[~wifi_data[\"Location\"].isin([\"calibration0\",\"calibration1\"])]\n",
    "print(wifi_data[\"Location\"].unique())\n"
   ]
  },
  {
   "cell_type": "code",
   "execution_count": 21,
   "metadata": {},
   "outputs": [],
   "source": [
    "wifi_data = wifi_data[columns]\n",
    "wifi_data.to_csv(\"wifi_data.csv\",index=False)\n",
    "# print(len(wifi_data))\n",
    "# wifi_data = wifi_data[(wifi_data[wifi_data == -100].count(axis=1))<7]\n",
    "# print(len(wifi_data))\n"
   ]
  },
  {
   "cell_type": "code",
   "execution_count": 22,
   "metadata": {},
   "outputs": [],
   "source": [
    "from sklearn.ensemble import RandomForestClassifier\n",
    "from sklearn.model_selection import train_test_split\n"
   ]
  },
  {
   "cell_type": "code",
   "execution_count": 23,
   "metadata": {},
   "outputs": [],
   "source": [
    "X_train, X_test, y_train, y_test = train_test_split(wifi_data.iloc[:,:-1], wifi_data.iloc[:,-1], test_size=0.2, random_state=42)"
   ]
  },
  {
   "cell_type": "code",
   "execution_count": 24,
   "metadata": {},
   "outputs": [],
   "source": [
    "# from sklearn.feature_selection import SequentialFeatureSelector\n",
    "# from sklearn.neighbors import KNeighborsClassifier\n",
    "# knn = KNeighborsClassifier(n_neighbors=9)\n",
    "# f = SequentialFeatureSelector(knn,n_features_to_select=9)\n",
    "# X_train = f.fit_transform(X_train,y_train)\n",
    "# X_test = f.transform(X_test)\n",
    "# print(f.feature_names_in_[f.get_support()])"
   ]
  },
  {
   "cell_type": "code",
   "execution_count": 25,
   "metadata": {},
   "outputs": [
    {
     "name": "stdout",
     "output_type": "stream",
     "text": [
      "0.9259259259259259\n"
     ]
    }
   ],
   "source": [
    "from imblearn.ensemble import BalancedRandomForestClassifier\n",
    "classifier = BalancedRandomForestClassifier(random_state=42)\n",
    "classifier.fit(X_train,y_train)\n",
    "print(classifier.score(X_test,y_test))"
   ]
  },
  {
   "cell_type": "code",
   "execution_count": 26,
   "metadata": {},
   "outputs": [
    {
     "name": "stdout",
     "output_type": "stream",
     "text": [
      "0.9333333333333333\n"
     ]
    }
   ],
   "source": [
    "tree = RandomForestClassifier(random_state=42)\n",
    "tree.fit(X_train,y_train)\n",
    "print(tree.score(X_test,y_test))"
   ]
  },
  {
   "cell_type": "code",
   "execution_count": 27,
   "metadata": {},
   "outputs": [],
   "source": [
    "# to save the model as sav file\n",
    "import pickle\n",
    "filename = 'finalized_model.sav'\n",
    "pickle.dump(classifier, open(filename, 'wb'))"
   ]
  },
  {
   "cell_type": "code",
   "execution_count": 28,
   "metadata": {},
   "outputs": [],
   "source": [
    "import pickle\n",
    "loaded_model = pickle.load(open('finalized_model.sav', 'rb'))"
   ]
  }
 ],
 "metadata": {
  "interpreter": {
   "hash": "1b7c0ceb6cf5bd3d81b093a435038e089579837f1c746c1e4495bdc87dd180e1"
  },
  "kernelspec": {
   "display_name": "Python 3.10.2 64-bit",
   "language": "python",
   "name": "python3"
  },
  "language_info": {
   "codemirror_mode": {
    "name": "ipython",
    "version": 3
   },
   "file_extension": ".py",
   "mimetype": "text/x-python",
   "name": "python",
   "nbconvert_exporter": "python",
   "pygments_lexer": "ipython3",
   "version": "3.10.2"
  },
  "orig_nbformat": 4
 },
 "nbformat": 4,
 "nbformat_minor": 2
}
